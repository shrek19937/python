{
 "cells": [
  {
   "cell_type": "markdown",
   "metadata": {},
   "source": [
    "`Introduction`<br>\n",
    "Crypto is notoriously difficult to get correct. Shamir quote \"Crypto will not be broken, it will be bypassed.\" <br>\n",
    "Best to leave it to the `professionals`. aka `server side encryption`<br>\n",
    "But there are times, it's unavoidable.  In that case, best to follow a good framework the takes care of the details. <br>"
   ]
  },
  {
   "cell_type": "markdown",
   "metadata": {},
   "source": [
    "`Basic Crypto Requirements` <br>\n",
    "Semantic Security <br>\n",
    "Indistinguish under chosen plaintext attack   e.g. encrypting `midway` twice, must result in two different ciphertexts <br>\n",
    "Indistinguish under chosen ciphertext attacks e.g. no padding oracle "
   ]
  },
  {
   "cell_type": "markdown",
   "metadata": {},
   "source": [
    "`Modern Cipher` <br>\n",
    "AES - NIST standard Advanced Encryption Standard<br>\n",
    "Block cipher with 128 block size"
   ]
  },
  {
   "cell_type": "markdown",
   "metadata": {},
   "source": [
    "`Mode of Operations`<br>\n",
    "GCM - which supports AEAD i.e. authenticated encryption with (additional) associated data<br>\n",
    "https://nvlpubs.nist.gov/nistpubs/Legacy/SP/nistspecialpublication800-38d.pdf"
   ]
  },
  {
   "cell_type": "markdown",
   "metadata": {},
   "source": [
    "`Complexity in getting it right`<br>\n",
    "IV - random<br>\n",
    "Count - unique<br>\n",
    "in the GCM case, the most compatible implemenation uses a 96-bit `random` IV and a 32-bit counter"
   ]
  },
  {
   "cell_type": "markdown",
   "metadata": {},
   "source": [
    "`Two implications`<br>\n",
    "1. the `number of times` that a key can be used to encrypt()<br>\n",
    "2. each time the encrypt() is called, the *max* `size` of the data can be encrypted<br>"
   ]
  },
  {
   "cell_type": "markdown",
   "metadata": {},
   "source": [
    "`other considerations`<br>\n",
    "where to store IV, counter, tags etc<br>\n",
    "different programming languages"
   ]
  },
  {
   "cell_type": "markdown",
   "metadata": {},
   "source": [
    "_______________________________________________________________________________________________________________________________"
   ]
  },
  {
   "cell_type": "markdown",
   "metadata": {},
   "source": [
    "https://github.com/google/tink  # used to be `key czar`"
   ]
  },
  {
   "cell_type": "code",
   "execution_count": 15,
   "metadata": {},
   "outputs": [
    {
     "name": "stdout",
     "output_type": "stream",
     "text": [
      " [add-key | convert-keyset |            \r\n",
      " create-keyset | create-public-keyset      \r\n",
      " | delete-key | destroy-key |              \r\n",
      " disable-key | enable-key |                \r\n",
      " list-keyset | list-key-templates |        \r\n",
      " rotate-keyset | promote-key]              \r\n"
     ]
    }
   ],
   "source": [
    "!tinkey | sed 1,3d | sed s/:\\ .*//"
   ]
  },
  {
   "cell_type": "code",
   "execution_count": 23,
   "metadata": {
    "scrolled": true
   },
   "outputs": [
    {
     "name": "stdout",
     "output_type": "stream",
     "text": [
      "103\r\n"
     ]
    }
   ],
   "source": [
    "!tinkey list-key-templates | sed 1d | wc -l"
   ]
  },
  {
   "cell_type": "code",
   "execution_count": 5,
   "metadata": {},
   "outputs": [
    {
     "name": "stdout",
     "output_type": "stream",
     "text": [
      "AES128_CTR_HMAC_SHA256\r\n",
      "AES128_CTR_HMAC_SHA256_1MB\r\n",
      "AES128_CTR_HMAC_SHA256_4KB\r\n",
      "AES128_CTR_HMAC_SHA256_RAW\r\n",
      "AES128_EAX\r\n",
      "AES128_EAX_RAW\r\n",
      "AES128_GCM\r\n",
      "AES128_GCM_HKDF_1MB\r\n",
      "AES128_GCM_HKDF_4KB\r\n",
      "AES128_GCM_RAW\r\n",
      "AES256_CMAC\r\n",
      "AES256_CMAC_PRF\r\n",
      "AES256_CMAC_RAW\r\n",
      "AES256_CTR_HMAC_SHA256\r\n",
      "AES256_CTR_HMAC_SHA256_1MB\r\n",
      "AES256_CTR_HMAC_SHA256_4KB\r\n",
      "AES256_CTR_HMAC_SHA256_RAW\r\n",
      "AES256_EAX\r\n",
      "AES256_EAX_RAW\r\n",
      "AES256_GCM\r\n",
      "AES256_GCM_HKDF_1MB\r\n",
      "AES256_GCM_HKDF_4KB\r\n",
      "AES256_GCM_RAW\r\n",
      "AES256_SIV\r\n",
      "AES256_SIV_RAW\r\n",
      "AES_CMAC\r\n",
      "AES_CMAC_PRF\r\n",
      "CHACHA20_POLY1305\r\n",
      "CHACHA20_POLY1305_RAW\r\n",
      "ECDSA_P256\r\n",
      "ECDSA_P256_IEEE_P1363\r\n",
      "ECDSA_P256_IEEE_P1363_WITHOUT_PREFIX\r\n",
      "ECDSA_P256_RAW\r\n",
      "ECDSA_P384\r\n",
      "ECDSA_P384_IEEE_P1363\r\n",
      "ECDSA_P521\r\n",
      "ECDSA_P521_IEEE_P1363\r\n",
      "ECIES_P256_COMPRESSED_HKDF_HMAC_SHA256_AES128_CTR_HMAC_SHA256\r\n",
      "ECIES_P256_COMPRESSED_HKDF_HMAC_SHA256_AES128_CTR_HMAC_SHA256_RAW\r\n",
      "ECIES_P256_COMPRESSED_HKDF_HMAC_SHA256_AES128_GCM\r\n",
      "ECIES_P256_COMPRESSED_HKDF_HMAC_SHA256_AES128_GCM_RAW\r\n",
      "ECIES_P256_HKDF_HMAC_SHA256_AES128_CTR_HMAC_SHA256\r\n",
      "ECIES_P256_HKDF_HMAC_SHA256_AES128_CTR_HMAC_SHA256_RAW\r\n",
      "ECIES_P256_HKDF_HMAC_SHA256_AES128_GCM\r\n",
      "ECIES_P256_HKDF_HMAC_SHA256_AES128_GCM_COMPRESSED_WITHOUT_PREFIX\r\n",
      "ECIES_P256_HKDF_HMAC_SHA256_AES128_GCM_RAW\r\n",
      "ED25519\r\n",
      "ED25519WithRawOutput\r\n",
      "ED25519_RAW\r\n",
      "HKDF_SHA256\r\n",
      "HMAC_SHA256_128BITTAG\r\n",
      "HMAC_SHA256_128BITTAG_RAW\r\n",
      "HMAC_SHA256_256BITTAG\r\n",
      "HMAC_SHA256_256BITTAG_RAW\r\n",
      "HMAC_SHA256_PRF\r\n",
      "HMAC_SHA512_128BITTAG\r\n",
      "HMAC_SHA512_128BITTAG_RAW\r\n",
      "HMAC_SHA512_256BITTAG\r\n",
      "HMAC_SHA512_256BITTAG_RAW\r\n",
      "HMAC_SHA512_512BITTAG\r\n",
      "HMAC_SHA512_512BITTAG_RAW\r\n",
      "HMAC_SHA512_PRF\r\n",
      "JWT_ES256\r\n",
      "JWT_ES256_RAW\r\n",
      "JWT_ES384\r\n",
      "JWT_ES384_RAW\r\n",
      "JWT_ES512\r\n",
      "JWT_ES512_RAW\r\n",
      "JWT_HS256\r\n",
      "JWT_HS256_RAW\r\n",
      "JWT_HS384\r\n",
      "JWT_HS384_RAW\r\n",
      "JWT_HS512\r\n",
      "JWT_HS512_RAW\r\n",
      "JWT_PS256_2048_F4\r\n",
      "JWT_PS256_2048_F4_RAW\r\n",
      "JWT_PS256_3072_F4\r\n",
      "JWT_PS256_3072_F4_RAW\r\n",
      "JWT_PS384_3072_F4\r\n",
      "JWT_PS384_3072_F4_RAW\r\n",
      "JWT_PS512_4096_F4\r\n",
      "JWT_PS512_4096_F4_RAW\r\n",
      "JWT_RS256_2048_F4\r\n",
      "JWT_RS256_2048_F4_RAW\r\n",
      "JWT_RS256_3072_F4\r\n",
      "JWT_RS256_3072_F4_RAW\r\n",
      "JWT_RS384_3072_F4\r\n",
      "JWT_RS384_3072_F4_RAW\r\n",
      "JWT_RS512_4096_F4\r\n",
      "JWT_RS512_4096_F4_RAW\r\n",
      "RSA_SSA_PKCS1_3072_SHA256_F4\r\n",
      "RSA_SSA_PKCS1_3072_SHA256_F4_RAW\r\n",
      "RSA_SSA_PKCS1_3072_SHA256_F4_WITHOUT_PREFIX\r\n",
      "RSA_SSA_PKCS1_4096_SHA512_F4\r\n",
      "RSA_SSA_PKCS1_4096_SHA512_F4_RAW\r\n",
      "RSA_SSA_PSS_3072_SHA256_F4\r\n",
      "RSA_SSA_PSS_3072_SHA256_F4_RAW\r\n",
      "RSA_SSA_PSS_3072_SHA256_SHA256_32_F4\r\n",
      "RSA_SSA_PSS_4096_SHA512_F4\r\n",
      "RSA_SSA_PSS_4096_SHA512_F4_RAW\r\n",
      "RSA_SSA_PSS_4096_SHA512_SHA512_64_F4\r\n",
      "XCHACHA20_POLY1305\r\n",
      "XCHACHA20_POLY1305_RAW\r\n"
     ]
    }
   ],
   "source": [
    "!tinkey list-key-templates | sed 1d | sort"
   ]
  },
  {
   "cell_type": "code",
   "execution_count": 13,
   "metadata": {},
   "outputs": [],
   "source": [
    "#key creation with a template AES256_GCM"
   ]
  },
  {
   "cell_type": "code",
   "execution_count": 25,
   "metadata": {},
   "outputs": [],
   "source": [
    "!tinkey create-keyset --key-template AES256_GCM --out aes.gcm.keyset.json"
   ]
  },
  {
   "cell_type": "code",
   "execution_count": 17,
   "metadata": {},
   "outputs": [
    {
     "name": "stdout",
     "output_type": "stream",
     "text": [
      "-rw-r--r-- 1 a248042 a248042 260 Aug 25 18:52 aes.gcm.keyset.json\r\n"
     ]
    }
   ],
   "source": [
    "!ls -l *.json"
   ]
  },
  {
   "cell_type": "code",
   "execution_count": 27,
   "metadata": {},
   "outputs": [
    {
     "name": "stdout",
     "output_type": "stream",
     "text": [
      "\u001b[1;39m{\r\n",
      "  \u001b[0m\u001b[34;1m\"primaryKeyId\"\u001b[0m\u001b[1;39m: \u001b[0m\u001b[0;39m64052566\u001b[0m\u001b[1;39m,\r\n",
      "  \u001b[0m\u001b[34;1m\"key\"\u001b[0m\u001b[1;39m: \u001b[0m\u001b[1;39m[\r\n",
      "    \u001b[1;39m{\r\n",
      "      \u001b[0m\u001b[34;1m\"keyData\"\u001b[0m\u001b[1;39m: \u001b[0m\u001b[1;39m{\r\n",
      "        \u001b[0m\u001b[34;1m\"typeUrl\"\u001b[0m\u001b[1;39m: \u001b[0m\u001b[0;32m\"type.googleapis.com/google.crypto.tink.AesGcmKey\"\u001b[0m\u001b[1;39m,\r\n",
      "        \u001b[0m\u001b[34;1m\"value\"\u001b[0m\u001b[1;39m: \u001b[0m\u001b[0;32m\"***redacted***\"\u001b[0m\u001b[1;39m,\r\n",
      "        \u001b[0m\u001b[34;1m\"keyMaterialType\"\u001b[0m\u001b[1;39m: \u001b[0m\u001b[0;32m\"SYMMETRIC\"\u001b[0m\u001b[1;39m\r\n",
      "      \u001b[1;39m}\u001b[0m\u001b[1;39m,\r\n",
      "      \u001b[0m\u001b[34;1m\"status\"\u001b[0m\u001b[1;39m: \u001b[0m\u001b[0;32m\"ENABLED\"\u001b[0m\u001b[1;39m,\r\n",
      "      \u001b[0m\u001b[34;1m\"keyId\"\u001b[0m\u001b[1;39m: \u001b[0m\u001b[0;39m64052566\u001b[0m\u001b[1;39m,\r\n",
      "      \u001b[0m\u001b[34;1m\"outputPrefixType\"\u001b[0m\u001b[1;39m: \u001b[0m\u001b[0;32m\"TINK\"\u001b[0m\u001b[1;39m\r\n",
      "    \u001b[1;39m}\u001b[0m\u001b[1;39m\r\n",
      "  \u001b[1;39m]\u001b[0m\u001b[1;39m\r\n",
      "\u001b[1;39m}\u001b[0m\r\n"
     ]
    }
   ],
   "source": [
    "!jq '.key[].keyData.value = \"***redacted***\"' <aes.gcm.keyset.json  #!jq 'del(.key[].keyData.value)' <aes.gcm.keyset.json"
   ]
  },
  {
   "cell_type": "code",
   "execution_count": 7,
   "metadata": {},
   "outputs": [
    {
     "name": "stdout",
     "output_type": "stream",
     "text": [
      "/home/a248042/py-env/py3.9/bin/python\n",
      "Python 3.9.6\n"
     ]
    }
   ],
   "source": [
    "#python code\n",
    "!which python\n",
    "!python -V"
   ]
  },
  {
   "cell_type": "code",
   "execution_count": 28,
   "metadata": {},
   "outputs": [],
   "source": [
    "import tink\n",
    "from tink import aead\n",
    "from tink import cleartext_keyset_handle"
   ]
  },
  {
   "cell_type": "code",
   "execution_count": 29,
   "metadata": {},
   "outputs": [],
   "source": [
    "plaintext = b'top secret'\n",
    "associated_data = b'this comes from michael, it has *not* be changed'"
   ]
  },
  {
   "cell_type": "code",
   "execution_count": 30,
   "metadata": {},
   "outputs": [],
   "source": [
    "# 1. Register all AEAD primitives\n",
    "aead.register()"
   ]
  },
  {
   "cell_type": "code",
   "execution_count": 31,
   "metadata": {},
   "outputs": [],
   "source": [
    "# 2. Get a handle to the key material.\n",
    "with open(\"aes.gcm.keyset.json\", 'r') as f:\n",
    "  aes_gcm_keyset = f.read()\n",
    "reader = tink.JsonKeysetReader(aes_gcm_keyset)\n",
    "keyset_handle = cleartext_keyset_handle.read(reader)  #type.googleapis.com/google.crypto.tink.AesGcmKey"
   ]
  },
  {
   "cell_type": "code",
   "execution_count": 33,
   "metadata": {},
   "outputs": [],
   "source": [
    "# 3. Get the primitive.\n",
    "aes256_gcm = keyset_handle.primitive(aead.Aead)"
   ]
  },
  {
   "cell_type": "code",
   "execution_count": 34,
   "metadata": {},
   "outputs": [
    {
     "name": "stdout",
     "output_type": "stream",
     "text": [
      "b'top secret' b'this comes from michael, it has *not* be changed'\n"
     ]
    }
   ],
   "source": [
    "# 4. Use the primitive.\n",
    "ciphertext = aes256_gcm.encrypt(plaintext, associated_data)\n",
    "\n",
    "# 5. decrypt\n",
    "decrypted = aes256_gcm.decrypt(ciphertext, associated_data)\n",
    "print(decrypted, associated_data)"
   ]
  },
  {
   "cell_type": "markdown",
   "metadata": {},
   "source": [
    "_______________________________________________________________________________________________________________________________"
   ]
  },
  {
   "cell_type": "code",
   "execution_count": 13,
   "metadata": {},
   "outputs": [],
   "source": [
    "#java code\n",
    "package com.incrediblewus;\n",
    "\n",
    "import com.google.crypto.tink.Aead;\n",
    "import com.google.crypto.tink.aead.AeadConfig;\n",
    "import com.google.crypto.tink.KeysetHandle;\n",
    "import com.google.crypto.tink.KeyTemplates;\n",
    "\n",
    "/**\n",
    " * Hello Tink!\n",
    " *\n",
    " */\n",
    "public class App\n",
    "{\n",
    "  public static void main(String args[])\n",
    "    throws Exception\n",
    "  {\n",
    "    System.out.println(\"Hello, Tink\");\n",
    "\n",
    "    String plaintext = \"top secret!\";\n",
    "    String aad       = \"it has _not_ been changed\";\n",
    "\n",
    "    // 0. register aead config\n",
    "    AeadConfig.register();\n",
    "\n",
    "    // 1. Generate the key material.\n",
    "    KeysetHandle keysetHandle = KeysetHandle.generateNew(KeyTemplates.get(\"AES256_GCM\"));\n",
    "\n",
    "    // 2. Get the primitive.\n",
    "    Aead aead = keysetHandle.getPrimitive(Aead.class);\n",
    "\n",
    "    // 3. Use the primitive to encrypt a plaintext,\n",
    "    byte[] ciphertext = aead.encrypt(plaintext.getBytes(), aad.getBytes());\n",
    "\n",
    "    // ... or to decrypt a ciphertext.\n",
    "    byte[] decrypted = aead.decrypt(ciphertext, aad.getBytes());\n",
    "    System.out.println(new String(decrypted));\n",
    "  }\n",
    "}"
   ]
  },
  {
   "cell_type": "code",
   "execution_count": null,
   "metadata": {},
   "outputs": [],
   "source": [
    "#compare to something like bouncycastle\n",
    "#https://www.wiley.com/en-us/Beginning+Cryptography+with+Java-p-9780764596339 "
   ]
  },
  {
   "cell_type": "code",
   "execution_count": null,
   "metadata": {},
   "outputs": [],
   "source": [
    "package chapter2;\n",
    "\n",
    "import javax.crypto.Cipher;\n",
    "import javax.crypto.spec.IvParameterSpec;\n",
    "import javax.crypto.spec.SecretKeySpec;\n",
    "\n",
    "/**\n",
    " * Basic symmetric encryption example with padding and CBC using DES\n",
    " */\n",
    "public class SimpleCBCExample\n",
    "{   \n",
    "    public static void main(\n",
    "        String[]    args)\n",
    "        throws Exception\n",
    "    {\n",
    "        byte[] input = new byte[] { \n",
    "                0x00, 0x01, 0x02, 0x03, 0x04, 0x05, 0x06, 0x07, \n",
    "                0x08, 0x09, 0x0a, 0x0b, 0x0c, 0x0d, 0x0e, 0x0f,\n",
    "                0x00, 0x01, 0x02, 0x03, 0x04, 0x05, 0x06, 0x07 };\n",
    "        byte[] keyBytes = new byte[] { \n",
    "                0x01, 0x23, 0x45, 0x67, (byte)0x89, (byte)0xab, (byte)0xcd, (byte)0xef };\n",
    "        byte[] ivBytes = new byte[] { \n",
    "                0x07, 0x06, 0x05, 0x04, 0x03, 0x02, 0x01, 0x00 };\n",
    "        \n",
    "        SecretKeySpec   key = new SecretKeySpec(keyBytes, \"DES\");\n",
    "        IvParameterSpec ivSpec = new IvParameterSpec(ivBytes);\n",
    "        Cipher          cipher = Cipher.getInstance(\"DES/CBC/PKCS7Padding\", \"BC\");\n",
    "        \n",
    "\n",
    "        System.out.println(\"input : \" + Utils.toHex(input));\n",
    "        \n",
    "        // encryption pass\n",
    "        cipher.init(Cipher.ENCRYPT_MODE, key, ivSpec);\n",
    "        byte[] cipherText = new byte[cipher.getOutputSize(input.length)];\n",
    "        int ctLength = cipher.update(input, 0, input.length, cipherText, 0);\n",
    "        ctLength += cipher.doFinal(cipherText, ctLength);\n",
    "        System.out.println(\"cipher: \" + Utils.toHex(cipherText, ctLength) + \" bytes: \" + ctLength);\n",
    "        \n",
    "        // decryption pass\n",
    "        cipher.init(Cipher.DECRYPT_MODE, key, ivSpec);\n",
    "        byte[] plainText = new byte[cipher.getOutputSize(ctLength)];\n",
    "        int ptLength = cipher.update(cipherText, 0, ctLength, plainText, 0);\n",
    "        ptLength += cipher.doFinal(plainText, ptLength);\n",
    "        System.out.println(\"plain : \" + Utils.toHex(plainText, ptLength) + \" bytes: \" + ptLength);\n",
    "    }\n",
    "}"
   ]
  }
 ],
 "metadata": {
  "kernelspec": {
   "display_name": "Python 3",
   "language": "python",
   "name": "python3"
  },
  "language_info": {
   "codemirror_mode": {
    "name": "ipython",
    "version": 3
   },
   "file_extension": ".py",
   "mimetype": "text/x-python",
   "name": "python",
   "nbconvert_exporter": "python",
   "pygments_lexer": "ipython3",
   "version": "3.9.6"
  }
 },
 "nbformat": 4,
 "nbformat_minor": 4
}
